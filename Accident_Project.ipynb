{
 "cells": [
  {
   "cell_type": "code",
   "execution_count": 0,
   "metadata": {
    "application/vnd.databricks.v1+cell": {
     "cellMetadata": {},
     "inputWidgets": {},
     "nuid": "55091e2d-2bc2-46bd-80b3-64884a94a6bc",
     "showTitle": false,
     "title": ""
    }
   },
   "outputs": [],
   "source": [
    "import pandas as pd\n",
    "import matplotlib.pyplot as plt\n",
    "import seaborn as sns\n",
    "import random\n",
    "import numpy as np\n",
    "path=\"dft-road-casualty-statistics-accident-1979-2020.csv\""
   ]
  },
  {
   "cell_type": "code",
   "execution_count": 0,
   "metadata": {
    "application/vnd.databricks.v1+cell": {
     "cellMetadata": {},
     "inputWidgets": {},
     "nuid": "874ed2f6-b423-44d2-94cd-04203ea53fb0",
     "showTitle": false,
     "title": ""
    }
   },
   "outputs": [],
   "source": [
    "a=pd.read_csv(path)"
   ]
  },
  {
   "cell_type": "code",
   "execution_count": 0,
   "metadata": {
    "application/vnd.databricks.v1+cell": {
     "cellMetadata": {},
     "inputWidgets": {},
     "nuid": "18d64f6d-c041-4524-a39f-716c9f3631e1",
     "showTitle": false,
     "title": ""
    }
   },
   "outputs": [],
   "source": [
    "a.tail(5000)"
   ]
  },
  {
   "cell_type": "code",
   "execution_count": 0,
   "metadata": {
    "application/vnd.databricks.v1+cell": {
     "cellMetadata": {},
     "inputWidgets": {},
     "nuid": "552193cd-b97b-4917-bfb1-7f6f58618e98",
     "showTitle": false,
     "title": ""
    }
   },
   "outputs": [],
   "source": [
    "import numpy as np\n",
    "a.shape"
   ]
  },
  {
   "cell_type": "code",
   "execution_count": 0,
   "metadata": {
    "application/vnd.databricks.v1+cell": {
     "cellMetadata": {},
     "inputWidgets": {},
     "nuid": "7dfb3ac2-2543-4a41-9cee-c6001b79bf57",
     "showTitle": false,
     "title": ""
    }
   },
   "outputs": [],
   "source": [
    "# Filter data between two dates\n",
    "filtered_df = a.loc[(a['accident_year'] <= 2020)\n",
    "                     & (a['accident_year'] >= 2018)]"
   ]
  },
  {
   "cell_type": "code",
   "execution_count": 0,
   "metadata": {
    "application/vnd.databricks.v1+cell": {
     "cellMetadata": {},
     "inputWidgets": {},
     "nuid": "bc4ce85b-de6a-4703-9a06-3d54a95349c2",
     "showTitle": false,
     "title": ""
    }
   },
   "outputs": [],
   "source": [
    "filtered_df.shape"
   ]
  },
  {
   "cell_type": "code",
   "execution_count": 0,
   "metadata": {
    "application/vnd.databricks.v1+cell": {
     "cellMetadata": {},
     "inputWidgets": {},
     "nuid": "32e312f4-c5b8-449b-996f-cf97df1bd87c",
     "showTitle": false,
     "title": ""
    }
   },
   "outputs": [],
   "source": [
    "filtered_df.head(50)"
   ]
  },
  {
   "cell_type": "code",
   "execution_count": 0,
   "metadata": {
    "application/vnd.databricks.v1+cell": {
     "cellMetadata": {},
     "inputWidgets": {},
     "nuid": "d6d2ad13-edbb-40fc-b733-07eb648d33fd",
     "showTitle": false,
     "title": ""
    }
   },
   "outputs": [],
   "source": [
    "filtered_df.tail(50)"
   ]
  },
  {
   "cell_type": "code",
   "execution_count": 0,
   "metadata": {
    "application/vnd.databricks.v1+cell": {
     "cellMetadata": {},
     "inputWidgets": {},
     "nuid": "b35b27bf-0ffa-4ac3-b052-3243994d7da4",
     "showTitle": false,
     "title": ""
    }
   },
   "outputs": [],
   "source": [
    "filtered_df.info()"
   ]
  },
  {
   "cell_type": "code",
   "execution_count": 0,
   "metadata": {
    "application/vnd.databricks.v1+cell": {
     "cellMetadata": {},
     "inputWidgets": {},
     "nuid": "107285d3-5504-48df-b171-41db4105b4ef",
     "showTitle": false,
     "title": ""
    }
   },
   "outputs": [],
   "source": [
    "b=pd.read_csv(\"Lsoa.csv\")"
   ]
  },
  {
   "cell_type": "code",
   "execution_count": 0,
   "metadata": {
    "application/vnd.databricks.v1+cell": {
     "cellMetadata": {},
     "inputWidgets": {},
     "nuid": "72000420-208d-4cbc-ba3d-29e8b33e5dac",
     "showTitle": false,
     "title": ""
    }
   },
   "outputs": [],
   "source": [
    " #write dataFrame to CSV file\n",
    "filtered_df.to_csv(\"C:\\\\Users\\\\ritau\\\\Downloads\\\\filtered_df1.csv\")"
   ]
  },
  {
   "cell_type": "code",
   "execution_count": 0,
   "metadata": {
    "application/vnd.databricks.v1+cell": {
     "cellMetadata": {},
     "inputWidgets": {},
     "nuid": "a49ae64d-af02-4595-ad18-8692bd2de4df",
     "showTitle": false,
     "title": ""
    }
   },
   "outputs": [],
   "source": [
    "masterdatta = filtered_df.merge(b, on= 'lsoa_of_accident_location')"
   ]
  },
  {
   "cell_type": "code",
   "execution_count": 0,
   "metadata": {
    "application/vnd.databricks.v1+cell": {
     "cellMetadata": {},
     "inputWidgets": {},
     "nuid": "2e40d353-07ed-446d-a78b-fb6cbac91d8c",
     "showTitle": false,
     "title": ""
    }
   },
   "outputs": [],
   "source": [
    "masterdatta.head()"
   ]
  },
  {
   "cell_type": "code",
   "execution_count": 0,
   "metadata": {
    "application/vnd.databricks.v1+cell": {
     "cellMetadata": {},
     "inputWidgets": {},
     "nuid": "3f74ef7d-e036-45c3-8f8a-6db54a2f6889",
     "showTitle": false,
     "title": ""
    }
   },
   "outputs": [],
   "source": [
    "masterdatta.to_csv(\"C:\\\\Users\\\\ritau\\\\Downloads\\\\masterdatta.csv\")"
   ]
  },
  {
   "cell_type": "code",
   "execution_count": 0,
   "metadata": {
    "application/vnd.databricks.v1+cell": {
     "cellMetadata": {},
     "inputWidgets": {},
     "nuid": "46576b19-d484-47ee-a452-d1749a875436",
     "showTitle": false,
     "title": ""
    }
   },
   "outputs": [],
   "source": [
    "masterdatta.to_csv(\"C:\\\\Users\\\\ritau\\\\Downloads\\\\masterdatta1.csv\")"
   ]
  },
  {
   "cell_type": "code",
   "execution_count": 0,
   "metadata": {
    "application/vnd.databricks.v1+cell": {
     "cellMetadata": {},
     "inputWidgets": {},
     "nuid": "4857a3e0-af77-45c4-a5c6-86a81ca68697",
     "showTitle": false,
     "title": ""
    }
   },
   "outputs": [],
   "source": [
    "masterdatta.tail()"
   ]
  },
  {
   "cell_type": "code",
   "execution_count": 0,
   "metadata": {
    "application/vnd.databricks.v1+cell": {
     "cellMetadata": {},
     "inputWidgets": {},
     "nuid": "7b580ed4-b80e-48a9-a236-b30cfc3f3c0a",
     "showTitle": false,
     "title": ""
    }
   },
   "outputs": [],
   "source": [
    "masterdatta.shape"
   ]
  },
  {
   "cell_type": "code",
   "execution_count": 0,
   "metadata": {
    "application/vnd.databricks.v1+cell": {
     "cellMetadata": {},
     "inputWidgets": {},
     "nuid": "48b936e2-cbee-456b-b3ca-3f7e2341f5a2",
     "showTitle": false,
     "title": ""
    }
   },
   "outputs": [],
   "source": [
    "masterdatta[\"Accident_Severity\"] = masterdatta[\"accident_severity\"].map({1:'Fatal', 2:'Serious',3:'Slight'})"
   ]
  },
  {
   "cell_type": "code",
   "execution_count": 0,
   "metadata": {
    "application/vnd.databricks.v1+cell": {
     "cellMetadata": {},
     "inputWidgets": {},
     "nuid": "6ec29f3f-aad1-4d83-9ccf-1d15ca2a9637",
     "showTitle": false,
     "title": ""
    }
   },
   "outputs": [],
   "source": [
    "masterdatta['Weather_Conditions'] = masterdatta['weather_conditions'].map({1:'Fine + HighWinds', 2:'Fine no HighWinds',3:'Fog or Mist',4:'Other',5:'Raining + HighWinds',6:'Raining no HighWinds',7:'Snowing + HighWinds',8:'Snowing + no HighWinds',9:'Unknown'})"
   ]
  },
  {
   "cell_type": "code",
   "execution_count": 0,
   "metadata": {
    "application/vnd.databricks.v1+cell": {
     "cellMetadata": {},
     "inputWidgets": {},
     "nuid": "8bbbd9da-c2d3-44eb-9e14-d70dea11e137",
     "showTitle": false,
     "title": ""
    }
   },
   "outputs": [],
   "source": [
    "masterdatta['Road_Surface_Conditions'] = masterdatta['road_surface_conditions'].map({1:'Dry', 2:'Flood over 3cm. deep',3:'Frost or ice',4:'Snow',5:'Unknown',6:'Wet or Damp'})"
   ]
  },
  {
   "cell_type": "code",
   "execution_count": 0,
   "metadata": {
    "application/vnd.databricks.v1+cell": {
     "cellMetadata": {},
     "inputWidgets": {},
     "nuid": "9e83d689-db4e-4da8-9f7e-431a33d07174",
     "showTitle": false,
     "title": ""
    }
   },
   "outputs": [],
   "source": [
    "masterdatta.head()"
   ]
  },
  {
   "cell_type": "code",
   "execution_count": 0,
   "metadata": {
    "application/vnd.databricks.v1+cell": {
     "cellMetadata": {},
     "inputWidgets": {},
     "nuid": "c515f8c4-4714-406a-8713-5f2700ee9744",
     "showTitle": false,
     "title": ""
    }
   },
   "outputs": [],
   "source": [
    "a, axs = plt.subplots(1, 2, figsize=(8, 4), gridspec_kw=dict(width_ratios=[4, 3]))\n",
    "sns.scatterplot(data=masterdatta, x=\"day_of_week\", y=\"number_of_casualties\", ax=axs[0])\n",
    "sns.histplot(data=masterdatta, x=\"day_of_week\", shrink=.8, alpha=.8, legend=True, ax=axs[1])\n",
    "a.tight_layout()"
   ]
  },
  {
   "cell_type": "code",
   "execution_count": 0,
   "metadata": {
    "application/vnd.databricks.v1+cell": {
     "cellMetadata": {},
     "inputWidgets": {},
     "nuid": "0212bc93-affc-4c07-a7ac-ff81affefe13",
     "showTitle": false,
     "title": ""
    }
   },
   "outputs": [],
   "source": [
    "# start with weather conditions first\n",
    "wplot = sns.histplot(data=masterdatta,x=\"Accident_Severity\",shrink =.8)\n",
    "plt.show()"
   ]
  },
  {
   "cell_type": "code",
   "execution_count": 0,
   "metadata": {
    "application/vnd.databricks.v1+cell": {
     "cellMetadata": {},
     "inputWidgets": {},
     "nuid": "a360a325-c659-437b-8be4-a4aa728a6819",
     "showTitle": false,
     "title": ""
    }
   },
   "outputs": [],
   "source": [
    "# start with weather conditions first\n",
    "wplot = sns.countplot(data=masterdatta,x=\"Accident_Severity\")\n",
    "wplot.set_xticklabels(wplot.get_xticklabels(), rotation=40, ha=\"right\")\n",
    "\n",
    "\n",
    "plt.show()"
   ]
  },
  {
   "cell_type": "code",
   "execution_count": 0,
   "metadata": {
    "application/vnd.databricks.v1+cell": {
     "cellMetadata": {},
     "inputWidgets": {},
     "nuid": "fb7fce1f-2c97-4bea-8d00-47bd382d5f87",
     "showTitle": false,
     "title": ""
    }
   },
   "outputs": [],
   "source": [
    "# start with weather conditions first\n",
    "wplot = sns.countplot(data=masterdatta,x=\"Weather_Conditions\")\n",
    "wplot.set_xticklabels(wplot.get_xticklabels(), rotation=40, ha=\"right\")\n",
    "plt.show()"
   ]
  },
  {
   "cell_type": "code",
   "execution_count": 0,
   "metadata": {
    "application/vnd.databricks.v1+cell": {
     "cellMetadata": {},
     "inputWidgets": {},
     "nuid": "19b589c4-a94f-4066-8611-3d90d9db6625",
     "showTitle": false,
     "title": ""
    }
   },
   "outputs": [],
   "source": [
    "# start with weather conditions first\n",
    "wplot = sns.countplot(data=masterdatta,x=\"Road_Surface_Conditions\")\n",
    "wplot.set_xticklabels(wplot.get_xticklabels(), rotation=40, ha=\"right\")\n",
    "plt.show()"
   ]
  },
  {
   "cell_type": "markdown",
   "metadata": {
    "application/vnd.databricks.v1+cell": {
     "cellMetadata": {},
     "inputWidgets": {},
     "nuid": "cdff6f60-ae02-4cc3-8106-94b18adf7271",
     "showTitle": false,
     "title": ""
    }
   },
   "source": [
    "Data Cleaning"
   ]
  },
  {
   "cell_type": "code",
   "execution_count": 0,
   "metadata": {
    "application/vnd.databricks.v1+cell": {
     "cellMetadata": {},
     "inputWidgets": {},
     "nuid": "c849bae8-598b-43b1-8846-36e176848457",
     "showTitle": false,
     "title": ""
    }
   },
   "outputs": [],
   "source": [
    "#What kind of data does each column hold?\n",
    "\n",
    "masterdata.unique()"
   ]
  },
  {
   "cell_type": "code",
   "execution_count": 0,
   "metadata": {
    "application/vnd.databricks.v1+cell": {
     "cellMetadata": {},
     "inputWidgets": {},
     "nuid": "faa25d1b-ae54-4cbb-b9c9-7fbcbc127789",
     "showTitle": false,
     "title": ""
    }
   },
   "outputs": [],
   "source": [
    "hp = pd.read_excel(\"Hot_Spot_Analysis.xlsx\", sheet_name = ('HotSpot'))"
   ]
  },
  {
   "cell_type": "code",
   "execution_count": 0,
   "metadata": {
    "application/vnd.databricks.v1+cell": {
     "cellMetadata": {},
     "inputWidgets": {},
     "nuid": "f18e6bf3-87db-4a40-8237-4bc21f6e5ea0",
     "showTitle": false,
     "title": ""
    }
   },
   "outputs": [],
   "source": [
    "hp.head()"
   ]
  },
  {
   "cell_type": "code",
   "execution_count": 0,
   "metadata": {
    "application/vnd.databricks.v1+cell": {
     "cellMetadata": {},
     "inputWidgets": {},
     "nuid": "74d7989c-5139-40b5-b555-c4cd2e4c6a83",
     "showTitle": false,
     "title": ""
    }
   },
   "outputs": [],
   "source": [
    "hp[\"HotSpot_Analysis\"] = hp[\"Analysis\"].map({0:'ColdSpot',1:'HotSpot'})"
   ]
  },
  {
   "cell_type": "code",
   "execution_count": 0,
   "metadata": {
    "application/vnd.databricks.v1+cell": {
     "cellMetadata": {},
     "inputWidgets": {},
     "nuid": "f059bb10-0577-4d3e-ba38-1af83dfdfd6c",
     "showTitle": false,
     "title": ""
    }
   },
   "outputs": [],
   "source": [
    "hp.head()"
   ]
  },
  {
   "cell_type": "code",
   "execution_count": 0,
   "metadata": {
    "application/vnd.databricks.v1+cell": {
     "cellMetadata": {},
     "inputWidgets": {},
     "nuid": "c7f63721-4c97-45d2-94fb-eaba3f3e174d",
     "showTitle": false,
     "title": ""
    }
   },
   "outputs": [],
   "source": [
    "hp.info()"
   ]
  },
  {
   "cell_type": "code",
   "execution_count": 0,
   "metadata": {
    "application/vnd.databricks.v1+cell": {
     "cellMetadata": {},
     "inputWidgets": {},
     "nuid": "48c0730f-22aa-49c9-a861-b609a9dc42b4",
     "showTitle": false,
     "title": ""
    }
   },
   "outputs": [],
   "source": [
    "hp[\"Confidence_level\"] = hp[\"Gi_Bin Fixed 50_FDR\"].map({+3 or -3:99, +2 or -2:95,+1 or -1:90,0:'Not Significant'})"
   ]
  },
  {
   "cell_type": "code",
   "execution_count": 0,
   "metadata": {
    "application/vnd.databricks.v1+cell": {
     "cellMetadata": {},
     "inputWidgets": {},
     "nuid": "c057b98c-3136-4a53-9241-2aabf83284d2",
     "showTitle": false,
     "title": ""
    }
   },
   "outputs": [],
   "source": [
    "hp.head()"
   ]
  },
  {
   "cell_type": "code",
   "execution_count": 0,
   "metadata": {
    "application/vnd.databricks.v1+cell": {
     "cellMetadata": {},
     "inputWidgets": {},
     "nuid": "da80765e-107a-4053-abcd-7a82371270be",
     "showTitle": false,
     "title": ""
    }
   },
   "outputs": [],
   "source": [
    "main = pd.read_excel(\"Hot_Spot_Analysis.xlsx\", sheet_name = ('mainfile'))"
   ]
  },
  {
   "cell_type": "code",
   "execution_count": 0,
   "metadata": {
    "application/vnd.databricks.v1+cell": {
     "cellMetadata": {},
     "inputWidgets": {},
     "nuid": "54294318-f98c-4eeb-aa7a-70d402ac9947",
     "showTitle": false,
     "title": ""
    }
   },
   "outputs": [],
   "source": [
    "main.head()"
   ]
  },
  {
   "cell_type": "code",
   "execution_count": 0,
   "metadata": {
    "application/vnd.databricks.v1+cell": {
     "cellMetadata": {},
     "inputWidgets": {},
     "nuid": "1dea81a6-f99d-424d-ac95-e848b3569b66",
     "showTitle": false,
     "title": ""
    }
   },
   "outputs": [],
   "source": [
    "main_data=main.merge(hp,on='id')"
   ]
  },
  {
   "cell_type": "code",
   "execution_count": 0,
   "metadata": {
    "application/vnd.databricks.v1+cell": {
     "cellMetadata": {},
     "inputWidgets": {},
     "nuid": "7cc2d2ba-4e91-45c4-91f3-e14c2cff8dbb",
     "showTitle": false,
     "title": ""
    }
   },
   "outputs": [],
   "source": [
    "main_data.head()"
   ]
  },
  {
   "cell_type": "code",
   "execution_count": 0,
   "metadata": {
    "application/vnd.databricks.v1+cell": {
     "cellMetadata": {},
     "inputWidgets": {},
     "nuid": "a22554a1-1a11-4db4-8476-b863fb1f7227",
     "showTitle": false,
     "title": ""
    }
   },
   "outputs": [],
   "source": [
    "main_data.shape"
   ]
  },
  {
   "cell_type": "code",
   "execution_count": 0,
   "metadata": {
    "application/vnd.databricks.v1+cell": {
     "cellMetadata": {},
     "inputWidgets": {},
     "nuid": "c25e6e41-d1ed-41e1-870f-69630fdc1b3e",
     "showTitle": false,
     "title": ""
    }
   },
   "outputs": [],
   "source": [
    "main_data.info()"
   ]
  },
  {
   "cell_type": "markdown",
   "metadata": {
    "application/vnd.databricks.v1+cell": {
     "cellMetadata": {},
     "inputWidgets": {},
     "nuid": "004e77f7-096b-4169-9058-c6fc06e99cc0",
     "showTitle": false,
     "title": ""
    }
   },
   "source": [
    "Feature Engineering"
   ]
  },
  {
   "cell_type": "code",
   "execution_count": 0,
   "metadata": {
    "application/vnd.databricks.v1+cell": {
     "cellMetadata": {},
     "inputWidgets": {},
     "nuid": "42237141-5c2f-445f-9d13-c770f3afd138",
     "showTitle": false,
     "title": ""
    }
   },
   "outputs": [],
   "source": [
    " #write dataFrame to CSV file\n",
    "main_data.to_csv(\"C:\\\\Users\\\\ritau\\\\Downloads\\\\main_data.csv\")"
   ]
  },
  {
   "cell_type": "code",
   "execution_count": 0,
   "metadata": {
    "application/vnd.databricks.v1+cell": {
     "cellMetadata": {},
     "inputWidgets": {},
     "nuid": "bdfd5272-3336-44f8-9eb8-572ae53f3c27",
     "showTitle": false,
     "title": ""
    }
   },
   "outputs": [],
   "source": [
    "maindata = pd.read_csv(\"main_data1.csv\")"
   ]
  },
  {
   "cell_type": "code",
   "execution_count": 0,
   "metadata": {
    "application/vnd.databricks.v1+cell": {
     "cellMetadata": {},
     "inputWidgets": {},
     "nuid": "b8caccd0-fc4e-4094-aa42-b31bb274cda3",
     "showTitle": false,
     "title": ""
    }
   },
   "outputs": [],
   "source": [
    "maindata.head()"
   ]
  },
  {
   "cell_type": "code",
   "execution_count": 0,
   "metadata": {
    "application/vnd.databricks.v1+cell": {
     "cellMetadata": {},
     "inputWidgets": {},
     "nuid": "ff71ee1b-4058-40ac-917a-8694e0af18e4",
     "showTitle": false,
     "title": ""
    }
   },
   "outputs": [],
   "source": [
    "maindata.info()"
   ]
  },
  {
   "cell_type": "code",
   "execution_count": 0,
   "metadata": {
    "application/vnd.databricks.v1+cell": {
     "cellMetadata": {},
     "inputWidgets": {},
     "nuid": "4c7fcd41-33a1-4bd6-8012-bd0bd96af79b",
     "showTitle": false,
     "title": ""
    }
   },
   "outputs": [],
   "source": [
    "import matplotlib.pyplot as plt\n",
    "%matplotlib inline\n",
    "\n",
    "maindata.hist(figsize=(20,16), color = 'r');\n",
    "plt.show();"
   ]
  },
  {
   "cell_type": "code",
   "execution_count": 0,
   "metadata": {
    "application/vnd.databricks.v1+cell": {
     "cellMetadata": {},
     "inputWidgets": {},
     "nuid": "22e447f6-5b8f-4adc-872a-f7e67611301d",
     "showTitle": false,
     "title": ""
    }
   },
   "outputs": [],
   "source": [
    "maindata.corr()"
   ]
  },
  {
   "cell_type": "code",
   "execution_count": 0,
   "metadata": {
    "application/vnd.databricks.v1+cell": {
     "cellMetadata": {},
     "inputWidgets": {},
     "nuid": "94316c7e-ed4b-4ae4-ad29-007ae7933895",
     "showTitle": false,
     "title": ""
    }
   },
   "outputs": [],
   "source": [
    "corr =maindata.select_dtypes(include=[np.number]).corr()\n",
    "\n",
    "mask = np.zeros_like(corr, dtype=np.bool)\n",
    "mask[np.triu_indices_from(mask)] = True\n",
    "\n",
    "f, ax = plt.subplots(figsize=(11, 9))\n",
    "\n",
    "# Generate a custom diverging colormap\n",
    "cmap = sns.palette=\"vlag\"\n",
    "\n",
    "# Draw the heatmap with the mask and correct aspect ratio\n",
    "sns.heatmap(corr, mask=mask, cmap=cmap, vmax=.3, center=0,\n",
    "            square=True, linewidths=.5, cbar_kws={\"shrink\": .5});"
   ]
  },
  {
   "cell_type": "code",
   "execution_count": 0,
   "metadata": {
    "application/vnd.databricks.v1+cell": {
     "cellMetadata": {},
     "inputWidgets": {},
     "nuid": "fc7f58b5-83ee-423b-9cde-32164c28c17c",
     "showTitle": false,
     "title": ""
    }
   },
   "outputs": [],
   "source": [
    "sns.heatmap(corr,cmap=\"crest\")\n"
   ]
  },
  {
   "cell_type": "code",
   "execution_count": 0,
   "metadata": {
    "application/vnd.databricks.v1+cell": {
     "cellMetadata": {},
     "inputWidgets": {},
     "nuid": "361ce83c-96bf-42e0-98ad-8ade554e0f23",
     "showTitle": false,
     "title": ""
    }
   },
   "outputs": [],
   "source": [
    "fig, ax = plt.subplots(1, 2, figsize=(10,3))\n",
    "sns.distplot(maindata['GiZScore Fixed 50'], ax=ax[0])\n",
    "sns.distplot(np.log(maindata['GiZScore Fixed 50']), ax=ax[1])\n",
    "plt.show()\n",
    "print(maindata['GiZScore Fixed 50'].skew().round(2))\n",
    "print(np.log(maindata['GiZScore Fixed 50']).skew().round(2))"
   ]
  },
  {
   "cell_type": "code",
   "execution_count": 0,
   "metadata": {
    "application/vnd.databricks.v1+cell": {
     "cellMetadata": {},
     "inputWidgets": {},
     "nuid": "13f7feeb-ff26-4d07-93fa-ed9045d40ab4",
     "showTitle": false,
     "title": ""
    }
   },
   "outputs": [],
   "source": [
    "fig, ax = plt.subplots(1, 2, figsize=(10,3))\n",
    "sns.distplot(maindata['number_of_casualties'], ax=ax[0])\n",
    "sns.distplot(np.log(maindata['number_of_casualties']), ax=ax[1])\n",
    "plt.show()\n",
    "print(maindata['number_of_casualties'].skew().round(2))\n",
    "print(np.log(maindata['number_of_casualties']).skew().round(2))"
   ]
  },
  {
   "cell_type": "code",
   "execution_count": 0,
   "metadata": {
    "application/vnd.databricks.v1+cell": {
     "cellMetadata": {},
     "inputWidgets": {},
     "nuid": "abebb816-fadc-4de8-ac98-2087a8191cf7",
     "showTitle": false,
     "title": ""
    }
   },
   "outputs": [],
   "source": [
    "#Checking which columns are mostly correlated with the target\n",
    "maindata.corr().abs()['GiZScore Fixed 50'].sort_values(ascending = False)"
   ]
  },
  {
   "cell_type": "code",
   "execution_count": 0,
   "metadata": {
    "application/vnd.databricks.v1+cell": {
     "cellMetadata": {},
     "inputWidgets": {},
     "nuid": "b25c18ec-7a6d-46ee-832e-077a5d60f70b",
     "showTitle": false,
     "title": ""
    }
   },
   "outputs": [],
   "source": [
    "from sklearn.preprocessing import MinMaxScaler\n",
    "\n",
    "y = maindata['GiZScore Fixed 50']\n",
    "X = maindata.drop(['date','GiZScore Fixed 50','time','local_authority_ons_district','local_authority_highway','lsoa_of_accident_location','Names','Borough','HotSpot_Analysis','Confidence_level'],axis =1)\n",
    "\n",
    "scaler = MinMaxScaler()\n",
    "data = pd.DataFrame(scaler.fit_transform(X), index=y.index)\n",
    "data.columns = X.columns\n",
    "\n",
    "data"
   ]
  },
  {
   "cell_type": "code",
   "execution_count": 0,
   "metadata": {
    "application/vnd.databricks.v1+cell": {
     "cellMetadata": {},
     "inputWidgets": {},
     "nuid": "5aaf7180-1ec3-48e0-a868-49b4e60de9d6",
     "showTitle": false,
     "title": ""
    }
   },
   "outputs": [],
   "source": [
    "from sklearn.model_selection import train_test_split\n",
    "X_train, X_test, y_train, y_test = train_test_split(X, y, test_size=0.2, random_state=42)"
   ]
  },
  {
   "cell_type": "code",
   "execution_count": 0,
   "metadata": {
    "application/vnd.databricks.v1+cell": {
     "cellMetadata": {},
     "inputWidgets": {},
     "nuid": "66ebc543-b538-4aa1-b345-84554f75b11c",
     "showTitle": false,
     "title": ""
    }
   },
   "outputs": [],
   "source": [
    "def mean_absolute_percentage_error(y_true, y_pred): \n",
    "    y_true, y_pred = np.array(y_true), np.array(y_pred)\n",
    "    return np.mean(np.abs((y_true - y_pred) / y_true)) * 100"
   ]
  },
  {
   "cell_type": "code",
   "execution_count": 0,
   "metadata": {
    "application/vnd.databricks.v1+cell": {
     "cellMetadata": {},
     "inputWidgets": {},
     "nuid": "a6fbe383-52ea-4d37-b81b-01a8a1c20d65",
     "showTitle": false,
     "title": ""
    }
   },
   "outputs": [],
   "source": [
    "def plot_regression_results(ax, y_test, y_pred, title, estimated_time, scores):\n",
    "\n",
    "  # linear least-squares\n",
    "    slope, intercept, rvalue, pvalue, stderr = linregress(y_test, y_pred)\n",
    "    ax.plot([y_test.min(), y_test.max()], [intercept+y_test.min()*slope, intercept+y_test.max()*slope], '--r')\n",
    "\n",
    "    ax.scatter(y_test, y_pred, alpha=0.7)\n",
    "\n",
    "  # Anzeigen der Werte in einer Box\n",
    "    extra = plt.Rectangle((0, 0), 0, 0, fc=\"w\", fill=False,\n",
    "                          edgecolor='none', linewidth=0)\n",
    "    ax.legend([extra], [scores], loc='upper left')\n",
    "\n",
    "    ax.set_xlabel('Accident attributes')\n",
    "    ax.set_ylabel('Predictes values in Zscore')\n",
    "    ax.set_title('{}\\nTrained in {:.2f} Milliseconds'.format(name, estimated_time*1000))"
   ]
  },
  {
   "cell_type": "code",
   "execution_count": 0,
   "metadata": {
    "application/vnd.databricks.v1+cell": {
     "cellMetadata": {},
     "inputWidgets": {},
     "nuid": "fd36d679-1da9-4bad-84f2-762d87650db7",
     "showTitle": false,
     "title": ""
    }
   },
   "outputs": [],
   "source": [
    "from sklearn.metrics import mean_squared_error, r2_score, mean_absolute_error, max_error\n",
    "from sklearn.ensemble import GradientBoostingRegressor, RandomForestRegressor \n",
    "from sklearn.model_selection import cross_validate, cross_val_predict\n",
    "from sklearn.linear_model import LinearRegression, SGDRegressor\n",
    "from sklearn.model_selection import train_test_split\n",
    "from sklearn.neighbors import KNeighborsRegressor\n",
    "from sklearn.preprocessing import StandardScaler\n",
    "from sklearn.preprocessing import LabelEncoder\n",
    "from sklearn.tree import DecisionTreeRegressor\n",
    "from sklearn import svm\n",
    "from sklearn.neural_network import MLPRegressor\n",
    "\n",
    "import time\n",
    "from scipy.stats import linregress\n",
    "\n",
    "svr = svm.SVR()\n",
    "dtr = DecisionTreeRegressor()\n",
    "nn = MLPRegressor()\n",
    "gbr = GradientBoostingRegressor()\n",
    "knn = KNeighborsRegressor(n_neighbors=5)\n",
    "rfr = RandomForestRegressor()\n",
    "\n",
    "# Verwendete Regressionen\n",
    "estimators = [('SVR Regression', svr),\n",
    "              ('Decision Tree Regression', dtr),\n",
    "              ('Neural Network Regression', nn),\n",
    "              ('Gradient Boosting Regression', gbr),\n",
    "              ('K-nearest Neighbour 5', knn),\n",
    "              ('Random Forest Regression', rfr)]\n",
    "\n",
    "# Festlegen des Subplots\n",
    "fig, axs = plt.subplots(nrows=2, ncols=3, sharex=True, sharey=True, figsize=(20, 13))\n",
    "axs = np.ravel(axs)\n",
    "\n",
    "for ax, (name, est) in zip(axs, estimators):\n",
    "    start_time = time.time()\n",
    "    est.fit(X_train, y_train)\n",
    "    y_pred = est.predict(X_test)\n",
    "    estimated_time = time.time() - start_time\n",
    "\n",
    "    plot_regression_results(ax, y_test, y_pred, name, estimated_time, \n",
    "                          (r'$R^2$ = {:.2f}' + '\\n' + \n",
    "                          r'MAE = {:.0f}' + '\\n' +\n",
    "                          r'MSE = {:.0f}' + '\\n' +\n",
    "                          r'RMSE = {:.0f}' + '\\n' +\n",
    "                          r'MAX = {:.0f}' + '\\n' +\n",
    "                          r'MAPE = {:.2f}%')\n",
    "                          .format(r2_score(y_test, y_pred),\n",
    "                                  mean_absolute_error(y_test, y_pred),\n",
    "                                  mean_squared_error(y_test, y_pred),\n",
    "                                  mean_squared_error(y_test, y_pred, squared=False),\n",
    "                                  max_error(y_test, y_pred),\n",
    "                                  mean_absolute_percentage_error(y_test, y_pred)))\n",
    "plt.suptitle('Regressionsverfahren')\n",
    "plt.tight_layout()\n",
    "plt.subplots_adjust(top=0.9)\n",
    "plt.show()"
   ]
  },
  {
   "cell_type": "code",
   "execution_count": 0,
   "metadata": {
    "application/vnd.databricks.v1+cell": {
     "cellMetadata": {},
     "inputWidgets": {},
     "nuid": "2c40f95f-0e13-446f-9591-17953a3a5d3d",
     "showTitle": false,
     "title": ""
    }
   },
   "outputs": [],
   "source": [
    "r2_values = []\n",
    "max_error_values = []\n",
    "neg_mean_absolute_error_values = []\n",
    "neg_mean_squared_error_values = []\n",
    "neg_root_mean_squared_error_values = []\n",
    "\n",
    "for name, est in estimators:\n",
    "  # Kreuzvalidierung\n",
    "    score = cross_validate(est, X_train, y_train, cv=5,\n",
    "                         scoring=['r2', 'max_error', 'neg_mean_absolute_error', 'neg_mean_squared_error', 'neg_root_mean_squared_error'],\n",
    "                         n_jobs=-1)\n",
    "\n",
    "  # Abspeichern der Werte\n",
    "    r2_values.append(score['test_r2'])\n",
    "    max_error_values.append(-score['test_max_error'])\n",
    "    neg_mean_absolute_error_values.append(-score['test_neg_mean_absolute_error'])\n",
    "    neg_mean_squared_error_values.append(-score['test_neg_mean_squared_error'])\n",
    "    neg_root_mean_squared_error_values.append(-score['test_neg_root_mean_squared_error'])\n",
    "\n",
    "# Plotten der Werte\n",
    "fig, axs = plt.subplots(nrows=1, ncols=5, figsize=(30, 5))\n",
    "\n",
    "names = ['LR', 'DTR', 'SGD', 'GBR', 'KNN', 'RFR']\n",
    "\n",
    "axs[0].boxplot(r2_values, labels=names)\n",
    "axs[0].set_title('R2')\n",
    "axs[1].boxplot(max_error_values, labels=names)\n",
    "axs[1].set_title('MAX')\n",
    "axs[2].boxplot(neg_mean_absolute_error_values, labels=names)\n",
    "axs[2].set_title('MAE')\n",
    "axs[3].boxplot(neg_mean_squared_error_values, labels=names)\n",
    "axs[3].set_title('MSE')\n",
    "axs[4].boxplot(neg_root_mean_squared_error_values, labels=names)\n",
    "axs[4].set_title('RMSE')\n",
    "\n",
    "plt.suptitle('Cross-validation')\n",
    "plt.show()"
   ]
  },
  {
   "cell_type": "code",
   "execution_count": 0,
   "metadata": {
    "application/vnd.databricks.v1+cell": {
     "cellMetadata": {},
     "inputWidgets": {},
     "nuid": "3b1f825d-4787-45f5-b6de-7086f52517fa",
     "showTitle": false,
     "title": ""
    }
   },
   "outputs": [],
   "source": []
  }
 ],
 "metadata": {
  "application/vnd.databricks.v1+notebook": {
   "dashboards": [],
   "language": "python",
   "notebookMetadata": {
    "pythonIndentUnit": 4
   },
   "notebookName": "Accident_Project",
   "widgets": {}
  },
  "kernelspec": {
   "display_name": "Python 3",
   "language": "python",
   "name": "python3"
  },
  "language_info": {
   "codemirror_mode": {
    "name": "ipython",
    "version": 3
   },
   "file_extension": ".py",
   "mimetype": "text/x-python",
   "name": "python",
   "nbconvert_exporter": "python",
   "pygments_lexer": "ipython3",
   "version": "3.8.5"
  }
 },
 "nbformat": 4,
 "nbformat_minor": 0
}
